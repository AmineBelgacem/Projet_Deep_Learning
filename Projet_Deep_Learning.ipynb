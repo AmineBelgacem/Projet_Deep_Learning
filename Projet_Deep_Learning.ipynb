{
 "cells": [
  {
   "cell_type": "markdown",
   "metadata": {},
   "source": [
    "Ce projet est réalisé par Sarah BEHANZIN et Amine BELGACEM dans le cadre de notre cours de Deep Learning."
   ]
  },
  {
   "cell_type": "markdown",
   "metadata": {},
   "source": [
    "# Librairies nécessaires"
   ]
  },
  {
   "cell_type": "code",
   "execution_count": 134,
   "metadata": {},
   "outputs": [],
   "source": [
    "#Librairies de base\n",
    "import matplotlib.pyplot as plt\n",
    "import numpy as np\n",
    "import pandas as pd   \n",
    "import seaborn as sns \n",
    "\n",
    "#Librairies Scikit Learn\n",
    "from sklearn.model_selection import train_test_split, KFold\n",
    "\n",
    "\n",
    "#Librairies keras \n",
    "import keras\n",
    "from tensorflow.keras.datasets import mnist\n",
    "from tensorflow.keras.datasets.mnist import load_data\n",
    "from keras.datasets import mnist\n",
    "from keras.layers import Input, Conv2D, MaxPooling2D, BatchNormalization\n",
    "from keras.layers import UpSampling2D, Dropout, Dense, Flatten\n",
    "from keras.models import Sequential , Model\n",
    "from keras.callbacks import TensorBoard\n",
    "from tensorflow.keras.utils import plot_model\n",
    "from tensorflow.keras.utils import to_categorical"
   ]
  },
  {
   "cell_type": "markdown",
   "metadata": {},
   "source": [
    "## Introduction"
   ]
  },
  {
   "cell_type": "markdown",
   "metadata": {},
   "source": [
    "Dans le cadre de ce projet, nous devons réaliser un algorithme de Deep Learning nous permettant de pouvoir reconnaître et déchiffrer les numéros écrits sur les images issus de la base de données MNIST."
   ]
  },
  {
   "cell_type": "markdown",
   "metadata": {},
   "source": [
    "## Importation des données "
   ]
  },
  {
   "cell_type": "markdown",
   "metadata": {},
   "source": [
    "On commence par importer les données."
   ]
  },
  {
   "cell_type": "markdown",
   "metadata": {},
   "source": [
    "On a récuperé les fichiers test et train de MNIST via la librairie keras. On peut récuperer la base de données via la fonction load_data()"
   ]
  },
  {
   "cell_type": "code",
   "execution_count": 185,
   "metadata": {},
   "outputs": [],
   "source": [
    "#Chargement de la base de données\n",
    "(train_X, train_y), (test_X, test_y) = mnist.load_data()"
   ]
  },
  {
   "cell_type": "markdown",
   "metadata": {},
   "source": [
    "\n",
    "\n",
    "\n",
    "\n",
    "\n",
    "\n",
    "\n",
    "\n",
    "\n"
   ]
  },
  {
   "cell_type": "markdown",
   "metadata": {},
   "source": [
    "\n",
    "\n",
    "\n",
    "\n",
    "\n",
    "\n",
    "\n",
    "\n",
    "\n"
   ]
  },
  {
   "cell_type": "markdown",
   "metadata": {},
   "source": [
    "## Organisation des données "
   ]
  },
  {
   "cell_type": "markdown",
   "metadata": {},
   "source": [
    "Notre base de données est déjà decoupée en plusieurs parties : \n",
    "- train_y va contenir la colonne contenant tous les labels de la base de données d'apprentissage.\n",
    "- train_X va contenir tout le reste, c'est à dire les pixels des images de la base de données d'apprentissage.\n",
    "- test_X va contenir la colonne contenant tous les labels de la base de données de test.\n",
    "- test_y va contenir tout le reste, c'est à dire les pixels des images de la base de données de test."
   ]
  },
  {
   "cell_type": "markdown",
   "metadata": {},
   "source": [
    "On regarde la répartition de notre base de donnée train_X et test_X"
   ]
  },
  {
   "cell_type": "code",
   "execution_count": 186,
   "metadata": {},
   "outputs": [
    {
     "data": {
      "text/plain": [
       "(60000, 28, 28)"
      ]
     },
     "execution_count": 186,
     "metadata": {},
     "output_type": "execute_result"
    }
   ],
   "source": [
    "train_X.shape"
   ]
  },
  {
   "cell_type": "code",
   "execution_count": 187,
   "metadata": {},
   "outputs": [
    {
     "data": {
      "text/plain": [
       "(10000, 28, 28)"
      ]
     },
     "execution_count": 187,
     "metadata": {},
     "output_type": "execute_result"
    }
   ],
   "source": [
    "test_X.shape"
   ]
  },
  {
   "cell_type": "markdown",
   "metadata": {},
   "source": [
    "On visualise si nous avons une bonne répartition des labels dans notre jeu de données.\n",
    "\n",
    "Cette vérification est primordiale, car si on a une répartition vraiment déséquillibrée des labels dans notre base d'apprentissage et de test, nous ne pourrons pas bien entrainer notre modèle et donc cela nous donnera une mauvaise prédiction."
   ]
  },
  {
   "cell_type": "code",
   "execution_count": 188,
   "metadata": {
    "scrolled": false
   },
   "outputs": [
    {
     "name": "stderr",
     "output_type": "stream",
     "text": [
      "C:\\Users\\Belgacem\\anaconda3\\lib\\site-packages\\seaborn\\_decorators.py:36: FutureWarning: Pass the following variable as a keyword arg: x. From version 0.12, the only valid positional argument will be `data`, and passing other arguments without an explicit keyword will result in an error or misinterpretation.\n",
      "  warnings.warn(\n"
     ]
    },
    {
     "data": {
      "image/png": "[encoded data removed]",
      "text/plain": [
       "<Figure size 432x288 with 1 Axes>"
      ]
     },
     "metadata": {},
     "output_type": "display_data"
    }
   ],
   "source": [
    "#visualisation de la repartition des labels de la base d'apprentissage\n",
    "sns.set(style='white', context='notebook', palette='deep')\n",
    "ax = sns.countplot(train_y)"
   ]
  },
  {
   "cell_type": "code",
   "execution_count": 189,
   "metadata": {
    "scrolled": true
   },
   "outputs": [
    {
     "name": "stderr",
     "output_type": "stream",
     "text": [
      "C:\\Users\\Belgacem\\anaconda3\\lib\\site-packages\\seaborn\\_decorators.py:36: FutureWarning: Pass the following variable as a keyword arg: x. From version 0.12, the only valid positional argument will be `data`, and passing other arguments without an explicit keyword will result in an error or misinterpretation.\n",
      "  warnings.warn(\n"
     ]
    },
    {
     "data": {
      "image/png": "[encoded data removed]",
      "text/plain": [
       "<Figure size 432x288 with 1 Axes>"
      ]
     },
     "metadata": {},
     "output_type": "display_data"
    }
   ],
   "source": [
    "#visualisation de la repartition des labels de la base de test\n",
    "sns.set(style='white', context='notebook', palette='deep')\n",
    "ax = sns.countplot(test_y)"
   ]
  },
  {
   "cell_type": "markdown",
   "metadata": {},
   "source": [
    " "
   ]
  },
  {
   "cell_type": "markdown",
   "metadata": {},
   "source": [
    " "
   ]
  },
  {
   "cell_type": "markdown",
   "metadata": {},
   "source": [
    "Pour pouvoir augmenter la précision de notre réseau de neuronne, on doit tout d'abord mettre nos données sous la bonne forme. On a 784 colonnes et on doit les mettre sous forme de matrice 28x28 correspondant à une image de 28x28 pixels."
   ]
  },
  {
   "cell_type": "code",
   "execution_count": 190,
   "metadata": {},
   "outputs": [],
   "source": [
    "#Mise en forme des données\n",
    "train_X = train_X.reshape((train_X.shape[0], 28, 28, 1))\n",
    "test_X = test_X.reshape((test_X.shape[0], 28, 28, 1))"
   ]
  },
  {
   "cell_type": "code",
   "execution_count": 191,
   "metadata": {},
   "outputs": [
    {
     "data": {
      "text/plain": [
       "(60000, 28, 28, 1)"
      ]
     },
     "execution_count": 191,
     "metadata": {},
     "output_type": "execute_result"
    }
   ],
   "source": [
    "train_X.shape"
   ]
  },
  {
   "cell_type": "code",
   "execution_count": 192,
   "metadata": {
    "scrolled": true
   },
   "outputs": [
    {
     "data": {
      "text/plain": [
       "(10000, 28, 28, 1)"
      ]
     },
     "execution_count": 192,
     "metadata": {},
     "output_type": "execute_result"
    }
   ],
   "source": [
    "test_X.shape"
   ]
  },
  {
   "cell_type": "markdown",
   "metadata": {},
   "source": [
    "On normalise maintenant nos données pour avoir les valeurs de nos pixels dans le code RVB, entre 0 et 255."
   ]
  },
  {
   "cell_type": "code",
   "execution_count": 193,
   "metadata": {},
   "outputs": [],
   "source": [
    "train_X = train_X.astype('float32') / 255\n",
    "test_X  =  test_X.astype('float32') / 255"
   ]
  },
  {
   "cell_type": "markdown",
   "metadata": {},
   "source": [
    "On transforme nos labels en variable catégorielles grâce à la fonction to_categorical(). Cette fonction va convertir notre chiffre correspondant au label en un vecteur binaire de taille 10 (car nous avons des chiffres allant de 0 à 9).\n",
    "\n",
    "Cela va nous permettre d'optimiser notre réseau de neuronnes."
   ]
  },
  {
   "cell_type": "code",
   "execution_count": 194,
   "metadata": {},
   "outputs": [],
   "source": [
    "train_y = to_categorical(train_y)\n",
    "test_y = to_categorical(test_y)"
   ]
  },
  {
   "cell_type": "markdown",
   "metadata": {},
   "source": [
    "\n",
    "\n",
    "\n",
    "\n",
    "\n",
    "\n",
    "\n",
    "\n",
    "\n"
   ]
  },
  {
   "cell_type": "markdown",
   "metadata": {},
   "source": [
    "## Création du modèle"
   ]
  },
  {
   "cell_type": "markdown",
   "metadata": {},
   "source": [
    "On va maintenant créer le modèle. \n",
    "\n",
    "On commence par initialiser le modèle : \n",
    "\n",
    "Le modèle que nous utilisons est le Sequential(). Il permet de regrouper et rassembler plusieurs couches. \n"
   ]
  },
  {
   "cell_type": "code",
   "execution_count": 195,
   "metadata": {},
   "outputs": [],
   "source": [
    "model_ = Sequential()"
   ]
  },
  {
   "cell_type": "markdown",
   "metadata": {},
   "source": [
    "On définit maintenant le modèle.\n",
    "\n",
    "Notre modèle de réseau de neurone convolutif aura, pour commencer, une seule couche de taille (3,3) avec 32 filtres.\n",
    "\n",
    "Avec la fonction MaxPooling2D(), cela va nous retourner la couche de regroupement maximum. Cette fonction va réaliser un échantillonnage de format 2x2 sur toute notre image et va retourner la valeur maximale du pixel compris dans l'entrée qu'il échantillonne. \n",
    "\n",
    "Flatten() va nous permettre d'applatir les filtres pour fournir des caractéristiques à notre classificateur. \n",
    "\n",
    "La dernière ligne représente la couche de sortie. Comme nous avons une tâche de classification de 10 classes, on doit avoir une couche avec 10 sorties pour pouvoir prédire les images par rapport à leurs labels."
   ]
  },
  {
   "cell_type": "code",
   "execution_count": 196,
   "metadata": {},
   "outputs": [],
   "source": [
    "#implémentation des différentes couches\n",
    "model_.add(Conv2D(32, (3, 3), \n",
    "                  activation='relu', \n",
    "                  kernel_initializer='he_uniform', \n",
    "                  input_shape=(28, 28, 1)))\n",
    "\n",
    "model_.add(MaxPooling2D((2, 2)))\n",
    "model_.add(Flatten())\n",
    "\n",
    "model_.add(Dense(100, \n",
    "                 activation='relu', \n",
    "                 kernel_initializer='he_uniform'))\n",
    "\n",
    "model_.add(Dense(10, activation='softmax'))"
   ]
  },
  {
   "cell_type": "markdown",
   "metadata": {},
   "source": [
    "On utilise l'optimiseur Adam et la fonction de perte d'entropie croisée catégorielle.\n",
    "\n",
    "Nous prenons comme métrique d'analyse la précision."
   ]
  },
  {
   "cell_type": "code",
   "execution_count": 197,
   "metadata": {},
   "outputs": [],
   "source": [
    "#Compilation du modèle\n",
    "model_.compile(optimizer='adam', loss='categorical_crossentropy', metrics=['accuracy'])"
   ]
  },
  {
   "cell_type": "markdown",
   "metadata": {},
   "source": [
    "Nous pouvons commencer à entrainer le modèle."
   ]
  },
  {
   "cell_type": "code",
   "execution_count": 199,
   "metadata": {
    "scrolled": false
   },
   "outputs": [
    {
     "data": {
      "text/plain": [
       "<keras.callbacks.History at 0x145d42b5e80>"
      ]
     },
     "execution_count": 199,
     "metadata": {},
     "output_type": "execute_result"
    }
   ],
   "source": [
    "#On entraine le modèle\n",
    "model_.fit(x=train_X,\n",
    "           y=train_y, \n",
    "           epochs=10, \n",
    "           batch_size=32, \n",
    "           validation_data=(test_X, test_y), \n",
    "           verbose=0)"
   ]
  },
  {
   "cell_type": "code",
   "execution_count": 200,
   "metadata": {},
   "outputs": [
    {
     "name": "stdout",
     "output_type": "stream",
     "text": [
      "313/313 [==============================] - 2s 6ms/step - loss: 0.0626 - accuracy: 0.9876\n",
      "Notre modèle à une précision de  98.760 % sur l'ensemble de test \n"
     ]
    }
   ],
   "source": [
    "#Visualisation de la précision et de la perte de notre modèle\n",
    "loss_model, acc_model = model_.evaluate(x=test_X,y=test_y)\n",
    "print('Notre modèle à une précision de ',\n",
    "      '%.3f' % (acc_model * 100.0) ,\n",
    "      '% sur l\\'ensemble de test ')"
   ]
  },
  {
   "cell_type": "markdown",
   "metadata": {},
   "source": [
    "Les lignes de codes ci-dessous vont nous permettre de faire des prédictions et les verifier visuellement.\n",
    "\n",
    "On crée une variable image_index qui représente un chiffre aléatoire entre 1 et 10 000."
   ]
  },
  {
   "cell_type": "code",
   "execution_count": 201,
   "metadata": {},
   "outputs": [
    {
     "name": "stdout",
     "output_type": "stream",
     "text": [
      "Le nombre est 4\n"
     ]
    },
    {
     "data": {
      "image/png": "[encoded data removed]",
      "text/plain": [
       "<Figure size 432x288 with 1 Axes>"
      ]
     },
     "metadata": {},
     "output_type": "display_data"
    }
   ],
   "source": [
    "#Verification du résultats attendus et du résultats obtenues\n",
    "from random import \n",
    "\n",
    "liste = []\n",
    "for i in range(10000):\n",
    "    liste.append(randint(0, 1000) )\n",
    "\n",
    "shuffle(liste)\n",
    "image_index = choice(liste)\n",
    "    \n",
    "plt.imshow(test_X[image_index].reshape(28, 28),cmap='gist_gray')\n",
    "pred = model_.predict(test_X[image_index].reshape(1, 28, 28, 1))\n",
    "print('Le nombre prédit est',pred.argmax())"
   ]
  },
  {
   "cell_type": "markdown",
   "metadata": {},
   "source": [
    "\n",
    "\n",
    "\n",
    "\n",
    "\n",
    "\n",
    "\n",
    "\n",
    "\n"
   ]
  },
  {
   "cell_type": "markdown",
   "metadata": {},
   "source": [
    "\n",
    "\n",
    "\n",
    "\n",
    "\n",
    "\n",
    "\n",
    "\n",
    "\n"
   ]
  },
  {
   "cell_type": "markdown",
   "metadata": {},
   "source": [
    "### Modèle avec 3-fold validation croisée"
   ]
  },
  {
   "cell_type": "markdown",
   "metadata": {},
   "source": [
    "On va maintenant réaliser une validation croisée avec 3-Fold"
   ]
  },
  {
   "cell_type": "markdown",
   "metadata": {},
   "source": [
    "Pour faciliter et rendre le code plus clair, on crée une fonction qui va retourner notre modèle."
   ]
  },
  {
   "cell_type": "code",
   "execution_count": 202,
   "metadata": {},
   "outputs": [],
   "source": [
    "#Création de la fonction du modèle\n",
    "def fonction_model():\n",
    "    model = Sequential()\n",
    "    model.add(Conv2D(32, (3, 3), \n",
    "                    activation='relu', \n",
    "                    kernel_initializer='he_uniform',\n",
    "                    input_shape=(28, 28, 1)))\n",
    "    \n",
    "    model.add(MaxPooling2D((2,2)))\n",
    "    \n",
    "    model.add(Flatten())\n",
    "    \n",
    "    model.add(Dense(100, \n",
    "                    activation='relu', \n",
    "                    kernel_initializer='he_uniform'))\n",
    "    \n",
    "    model.add(Dense(10, \n",
    "                    activation='softmax'))\n",
    "    \n",
    "    model.compile(optimizer='adam', \n",
    "                  loss='categorical_crossentropy', \n",
    "                  metrics=['accuracy'])\n",
    "    return model"
   ]
  },
  {
   "cell_type": "markdown",
   "metadata": {},
   "source": [
    "Nous allons réaliser une opération de Kfold avec 3 splits."
   ]
  },
  {
   "cell_type": "code",
   "execution_count": 203,
   "metadata": {},
   "outputs": [],
   "source": [
    "#Initialisation de la méthode des K-Folds\n",
    "kfold = KFold(3, shuffle=True, random_state=1)"
   ]
  },
  {
   "cell_type": "markdown",
   "metadata": {},
   "source": [
    "Nous allons maintenant créer une boucle qui va permettre d'apprendre notre modèle sur les 3 divisions que fait notre Kfold.\n",
    "\n",
    "Sur chaque itération de la boucle, cela va diviser les bases de données d'apprentissages et de tests de manières différentes pour permettre un meilleur apprentissage du modèle."
   ]
  },
  {
   "cell_type": "markdown",
   "metadata": {},
   "source": [
    "Le chargement de cette cellule prends un certain temps."
   ]
  },
  {
   "cell_type": "code",
   "execution_count": 204,
   "metadata": {},
   "outputs": [],
   "source": [
    "#Entrainement du modèle avec la méthode des K-Folds\n",
    "hist_f= list()\n",
    "acc_f = list()\n",
    "loss_f = list()\n",
    "for train_i, test_i in kfold.split(train_X):\n",
    "    k_trainX, k_trainY, k_testX, k_testY = train_X[train_i], \n",
    "                                           train_y[train_i], \n",
    "                                           train_X[test_i], \n",
    "                                           train_y[test_i]\n",
    "    \n",
    "    model = fonction_model()\n",
    "    \n",
    "    hist = model.fit(k_trainX, \n",
    "                     k_trainY, \n",
    "                     epochs=10, \n",
    "                     batch_size=32, \n",
    "                     validation_data=(k_testX, k_testY), \n",
    "                     verbose=0)\n",
    "    \n",
    "    loss,acc = model.evaluate(k_testX, \n",
    "                              k_testY, \n",
    "                              verbose=0)\n",
    "    \n",
    "    acc_f.append('%.3f' % (acc * 100.0))\n",
    "    loss_f.append('%.3f' % (loss * 100.0))\n",
    "    hist_f.append(hist)\n"
   ]
  },
  {
   "cell_type": "code",
   "execution_count": 205,
   "metadata": {
    "scrolled": true
   },
   "outputs": [
    {
     "data": {
      "text/plain": [
       "['98.395', '98.290', '98.640']"
      ]
     },
     "execution_count": 205,
     "metadata": {},
     "output_type": "execute_result"
    }
   ],
   "source": [
    "#Précision du modèle sur les différentes divisions de la base de données\n",
    "acc_f"
   ]
  },
  {
   "cell_type": "code",
   "execution_count": 206,
   "metadata": {},
   "outputs": [
    {
     "data": {
      "text/plain": [
       "['7.380', '7.969', '6.263']"
      ]
     },
     "execution_count": 206,
     "metadata": {},
     "output_type": "execute_result"
    }
   ],
   "source": [
    "#Perte du modèle sur les différentes divisions de la base de données\n",
    "loss_f"
   ]
  },
  {
   "cell_type": "code",
   "execution_count": 290,
   "metadata": {
    "scrolled": false
   },
   "outputs": [
    {
     "name": "stderr",
     "output_type": "stream",
     "text": [
      "<ipython-input-290-dece0c34af24>:6: MatplotlibDeprecationWarning: Adding an axes using the same arguments as a previous axes currently reuses the earlier instance.  In a future version, a new instance will always be created and returned.  Meanwhile, this warning can be suppressed, and the future behavior ensured, by passing a unique label to each axes instance.\n",
      "  plt.subplot(2, 1, 1)\n"
     ]
    },
    {
     "data": {
      "image/png": "[encoded data removed]",
      "text/plain": [
       "<Figure size 432x288 with 1 Axes>"
      ]
     },
     "metadata": {},
     "output_type": "display_data"
    }
   ],
   "source": [
    "#On affiche le graphique correspondant à l'évolution de la perte du modèle lors de l'apprentissage.\n",
    "\n",
    "for i in range(len(hist_f)):\n",
    "    #1er graphique\n",
    "    plt.subplot(2, 1, 1)\n",
    "    plt.title('Cross Entropy Loss')\n",
    "    plt.plot(hist_f[i].history['loss'], color='blue', label='train')\n",
    "    plt.plot(hist_f[i].history['val_loss'], color='orange', label='test')\n",
    "plt.show()"
   ]
  },
  {
   "cell_type": "code",
   "execution_count": 291,
   "metadata": {},
   "outputs": [
    {
     "name": "stderr",
     "output_type": "stream",
     "text": [
      "<ipython-input-291-9e828b1d411f>:3: MatplotlibDeprecationWarning: Adding an axes using the same arguments as a previous axes currently reuses the earlier instance.  In a future version, a new instance will always be created and returned.  Meanwhile, this warning can be suppressed, and the future behavior ensured, by passing a unique label to each axes instance.\n",
      "  plt.subplot(2, 1, 2)\n"
     ]
    },
    {
     "data": {
      "image/png": "[encoded data removed]",
      "text/plain": [
       "<Figure size 432x288 with 1 Axes>"
      ]
     },
     "metadata": {},
     "output_type": "display_data"
    }
   ],
   "source": [
    "#On affiche le graphique correspondant à l'évolution de la précision du modèle lors de l'apprentissage.\n",
    "\n",
    "for i in range(len(hist_f)): \n",
    "    #2ème graphique\n",
    "    plt.subplot(2, 1, 2)\n",
    "    plt.title('Classification Accuracy')\n",
    "    plt.plot(hist_f[i].history['accuracy'], color='blue', label='train')\n",
    "    plt.plot(hist_f[i].history['val_accuracy'], color='orange', label='test')\n",
    "plt.show()"
   ]
  },
  {
   "cell_type": "markdown",
   "metadata": {},
   "source": [
    "Nous allons ré utiliser les lignes de codes nous permettant de prédire et vérifier visuellement la prédiction et les utiliser avec notre modèle avec les 3-Folds. \n",
    "\n",
    "Nous allons comparer les prédiction des deux modèles  en utilisant le même indice d'image."
   ]
  },
  {
   "cell_type": "code",
   "execution_count": 289,
   "metadata": {},
   "outputs": [
    {
     "name": "stdout",
     "output_type": "stream",
     "text": [
      "Le nombre prédit par le modèle avec les Kfold est 3\n",
      "Le nombre prédit par le modèle normal est 3\n"
     ]
    },
    {
     "data": {
      "image/png": "[encoded data removed]",
      "text/plain": [
       "<Figure size 432x288 with 1 Axes>"
      ]
     },
     "metadata": {},
     "output_type": "display_data"
    }
   ],
   "source": [
    "from random import *\n",
    "\n",
    "liste = []\n",
    "for i in range(10000):\n",
    "    liste.append(randint(0, 1000) )\n",
    "\n",
    "shuffle(liste)\n",
    "image_index_2 = choice(liste)\n",
    "\n",
    "plt.imshow(test_X[image_index_2].reshape(28, 28),cmap='gist_gray')\n",
    "pred_Kfold = model.predict(test_X[image_index_2].reshape(1, 28, 28, 1))\n",
    "print('Le nombre prédit par le modèle avec les Kfold est',pred_Kfold.argmax())\n",
    "pred = model_.predict(test_X[image_index_2].reshape(1, 28, 28, 1))\n",
    "print('Le nombre prédit par le modèle normal est',pred.argmax())"
   ]
  }
 ],
 "metadata": {
  "kernelspec": {
   "display_name": "Python 3",
   "language": "python",
   "name": "python3"
  },
  "language_info": {
   "codemirror_mode": {
    "name": "ipython",
    "version": 3
   },
   "file_extension": ".py",
   "mimetype": "text/x-python",
   "name": "python",
   "nbconvert_exporter": "python",
   "pygments_lexer": "ipython3",
   "version": "3.8.5"
  }
 },
 "nbformat": 4,
 "nbformat_minor": 4
}
