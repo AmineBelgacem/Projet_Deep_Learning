{
 "cells": [
  {
   "cell_type": "code",
   "execution_count": null,
   "metadata": {},
   "outputs": [],
   "source": [
    "#NN\n",
    "from tensorflow import keras\n",
    "\n",
    "model = keras.Sequential([\n",
    "    keras.layers.Dense(32, input_dim=26, activation = 'elu'),\n",
    "    keras.layers.Dense(16, activation = 'elu'),\n",
    "    keras.layers.Dropout(0.3),\n",
    "    keras.layers.Dense(8, activation = 'elu'),\n",
    "    keras.layers.Dense(4, activation = 'elu'),\n",
    "    keras.layers.Dense(3, activation = 'softmax')\n",
    "     \n",
    "    \n",
    "])"
   ]
  }
 ],
 "metadata": {
  "kernelspec": {
   "display_name": "Python 3",
   "language": "python",
   "name": "python3"
  },
  "language_info": {
   "codemirror_mode": {
    "name": "ipython",
    "version": 3
   },
   "file_extension": ".py",
   "mimetype": "text/x-python",
   "name": "python",
   "nbconvert_exporter": "python",
   "pygments_lexer": "ipython3",
   "version": "3.8.5"
  }
 },
 "nbformat": 4,
 "nbformat_minor": 4
}
