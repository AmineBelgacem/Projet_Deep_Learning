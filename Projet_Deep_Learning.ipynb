{
 "cells": [
  {
   "cell_type": "markdown",
   "metadata": {},
   "source": [
    "# Librairies nécessaire"
   ]
  },
  {
   "cell_type": "code",
   "execution_count": 80,
   "metadata": {},
   "outputs": [],
   "source": [
    "#Librairies  de base\n",
    "import matplotlib.pyplot as plt\n",
    "import numpy as np\n",
    "import pandas as pd   \n",
    "import seaborn as sns \n",
    "\n",
    "#Librairies Scikit Learn\n",
    "from sklearn.model_selection import train_test_split, KFold\n",
    "\n",
    "\n",
    "#Librairies keras \n",
    "import keras\n",
    "from tensorflow.keras.datasets import mnist\n",
    "from tensorflow.keras.datasets.mnist import load_data\n",
    "from keras.datasets import mnist\n",
    "from keras.layers import Input, Conv2D, MaxPooling2D, BatchNormalization\n",
    "from keras.layers import UpSampling2D, Dropout, Dense, Flatten\n",
    "from keras.models import Sequential , Model\n",
    "from keras.callbacks import TensorBoard\n",
    "from tensorflow.keras.utils import plot_model\n",
    "from tensorflow.keras.utils import to_categorical"
   ]
  },
  {
   "cell_type": "markdown",
   "metadata": {},
   "source": [
    "## Importation des données "
   ]
  },
  {
   "cell_type": "markdown",
   "metadata": {},
   "source": [
    "On a récuperer les fichiers test et train de MNIST via la librairie keras. On peut récuperer la base de données via la fonction load_data()"
   ]
  },
  {
   "cell_type": "code",
   "execution_count": 34,
   "metadata": {},
   "outputs": [],
   "source": [
    "(train_X, train_y), (test_X, test_y) = mnist.load_data()"
   ]
  },
  {
   "cell_type": "markdown",
   "metadata": {},
   "source": [
    "## Organisation des données "
   ]
  },
  {
   "cell_type": "markdown",
   "metadata": {},
   "source": [
    "Notre base de données est deja decoupée en plusieurs partie : \n",
    "- train_y va contenir la colonne contenant tous les labels de la base de données d'apprentissage.\n",
    "- train_X va contenir tout le reste, c'est à dire les pixels des images de la base de données d'apprentissage.\n",
    "- test_X va contenir la colonne contenant tous les labels de la base de données de test.\n",
    "- test_y va contenir tout le reste, c'est à dire les pixels des images de la base de données de test."
   ]
  },
  {
   "cell_type": "markdown",
   "metadata": {},
   "source": [
    "On regarde la repartition de notre base de donnée train_X et test_X"
   ]
  },
  {
   "cell_type": "code",
   "execution_count": 35,
   "metadata": {},
   "outputs": [
    {
     "data": {
      "text/plain": [
       "(60000, 28, 28)"
      ]
     },
     "execution_count": 35,
     "metadata": {},
     "output_type": "execute_result"
    }
   ],
   "source": [
    "train_X.shape"
   ]
  },
  {
   "cell_type": "code",
   "execution_count": 36,
   "metadata": {},
   "outputs": [
    {
     "data": {
      "text/plain": [
       "(10000, 28, 28)"
      ]
     },
     "execution_count": 36,
     "metadata": {},
     "output_type": "execute_result"
    }
   ],
   "source": [
    "test_X.shape"
   ]
  },
  {
   "cell_type": "markdown",
   "metadata": {},
   "source": [
    "On visualise si nous avons une bonne répartition des labels dans notre jeu de donnée."
   ]
  },
  {
   "cell_type": "code",
   "execution_count": 37,
   "metadata": {
    "scrolled": false
   },
   "outputs": [
    {
     "name": "stderr",
     "output_type": "stream",
     "text": [
      "C:\\Users\\Belgacem\\anaconda3\\lib\\site-packages\\seaborn\\_decorators.py:36: FutureWarning: Pass the following variable as a keyword arg: x. From version 0.12, the only valid positional argument will be `data`, and passing other arguments without an explicit keyword will result in an error or misinterpretation.\n",
      "  warnings.warn(\n"
     ]
    },
    {
     "data": {
      "image/png": "[encoded data removed]",
      "text/plain": [
       "<Figure size 432x288 with 1 Axes>"
      ]
     },
     "metadata": {},
     "output_type": "display_data"
    }
   ],
   "source": [
    "sns.set(style='white', context='notebook', palette='deep')\n",
    "ax = sns.countplot(train_y)"
   ]
  },
  {
   "cell_type": "code",
   "execution_count": 38,
   "metadata": {
    "scrolled": true
   },
   "outputs": [
    {
     "name": "stderr",
     "output_type": "stream",
     "text": [
      "C:\\Users\\Belgacem\\anaconda3\\lib\\site-packages\\seaborn\\_decorators.py:36: FutureWarning: Pass the following variable as a keyword arg: x. From version 0.12, the only valid positional argument will be `data`, and passing other arguments without an explicit keyword will result in an error or misinterpretation.\n",
      "  warnings.warn(\n"
     ]
    },
    {
     "data": {
      "image/png": "[encoded data removed]",
      "text/plain": [
       "<Figure size 432x288 with 1 Axes>"
      ]
     },
     "metadata": {},
     "output_type": "display_data"
    }
   ],
   "source": [
    "sns.set(style='white', context='notebook', palette='deep')\n",
    "ax = sns.countplot(test_y)"
   ]
  },
  {
   "cell_type": "markdown",
   "metadata": {},
   "source": [
    "Pour pouvoir augmenter la précision de notre réseau de neuronne, on doit tout d'abord mettre nos données sous la bonne forme. On a 784 colonnes et on doit les mettre sous forme de matrice 28x28 correspondant à une image de 28x28 pixels."
   ]
  },
  {
   "cell_type": "code",
   "execution_count": 39,
   "metadata": {},
   "outputs": [],
   "source": [
    "train_X = train_X.reshape((train_X.shape[0], 28, 28, 1))\n",
    "test_X = test_X.reshape((test_X.shape[0], 28, 28, 1))"
   ]
  },
  {
   "cell_type": "code",
   "execution_count": 40,
   "metadata": {},
   "outputs": [
    {
     "data": {
      "text/plain": [
       "(60000, 28, 28, 1)"
      ]
     },
     "execution_count": 40,
     "metadata": {},
     "output_type": "execute_result"
    }
   ],
   "source": [
    "train_X.shape"
   ]
  },
  {
   "cell_type": "code",
   "execution_count": 41,
   "metadata": {
    "scrolled": true
   },
   "outputs": [
    {
     "data": {
      "text/plain": [
       "(10000, 28, 28, 1)"
      ]
     },
     "execution_count": 41,
     "metadata": {},
     "output_type": "execute_result"
    }
   ],
   "source": [
    "test_X.shape"
   ]
  },
  {
   "cell_type": "markdown",
   "metadata": {},
   "source": [
    "On normalise maintenant nos données pour avoir les valeurs de nos pixels dans le code RVB, entre 0 et 255."
   ]
  },
  {
   "cell_type": "code",
   "execution_count": 42,
   "metadata": {},
   "outputs": [],
   "source": [
    "train_X = train_X.astype('float32') / 255\n",
    "test_X  =  test_X.astype('float32') / 255"
   ]
  },
  {
   "cell_type": "markdown",
   "metadata": {},
   "source": [
    "On transforme nos labels en variable catégorielles grâce à la fonction to_categorical(). Cette fonction va convertir notre chiffre correspondant au label en un vecteur binaire de taille 10 (car nous avons des chiffres allant de 0 à 9).\n",
    "\n",
    "Cela va nous permettre d'optimiser notre réseau de neuronnes."
   ]
  },
  {
   "cell_type": "code",
   "execution_count": 43,
   "metadata": {},
   "outputs": [],
   "source": [
    "train_y = to_categorical(train_y)\n",
    "test_y = to_categorical(test_y)"
   ]
  },
  {
   "cell_type": "markdown",
   "metadata": {},
   "source": [
    "## Création du modèle"
   ]
  },
  {
   "cell_type": "markdown",
   "metadata": {},
   "source": [
    "On va maintenant créer le modèle. \n",
    "\n",
    "On commence par initialier le modèle : "
   ]
  },
  {
   "cell_type": "code",
   "execution_count": 119,
   "metadata": {},
   "outputs": [],
   "source": [
    "model_ = Sequential()"
   ]
  },
  {
   "cell_type": "markdown",
   "metadata": {},
   "source": [
    "On définit maintenant le modèle.\n",
    "\n",
    "Notre modèle de réseau de neurone convolutif aura pour commencer une seule couche de taille (3,3) avec 32 filtres.\n",
    "\n",
    "Avec la fonction MaxPooling2D(), cela va nous retourner la couche de regroupement maximum.\n",
    "\n",
    "Flatten() va nous permettre d'applatir les filtres pour fournir des features à notre classificateur. \n",
    "\n",
    "La dernière ligne represente la couche de sortie. comme nosu avons une tache de classifictaion de 10 classes, on doit avoir une couche avec 10 sorties pour pouvoir prédire les images par rapport à leurs labels."
   ]
  },
  {
   "cell_type": "code",
   "execution_count": 120,
   "metadata": {},
   "outputs": [],
   "source": [
    "model_.add(Conv2D(32, (3, 3), activation='relu', kernel_initializer='he_uniform', input_shape=(28, 28, 1)))\n",
    "model_.add(MaxPooling2D((2, 2)))\n",
    "model_.add(Flatten())\n",
    "model_.add(Dense(100, activation='relu', kernel_initializer='he_uniform'))\n",
    "model_.add(Dense(10, activation='softmax'))"
   ]
  },
  {
   "cell_type": "markdown",
   "metadata": {},
   "source": [
    "On utiliser l'optimiseur Adam et la fonction de perte d'entropie croisée catégorielle.\n",
    "\n",
    "Nous analyserons la métrique de précision."
   ]
  },
  {
   "cell_type": "code",
   "execution_count": 121,
   "metadata": {},
   "outputs": [],
   "source": [
    "model_.compile(optimizer='adam', loss='categorical_crossentropy', metrics=['accuracy'])"
   ]
  },
  {
   "cell_type": "code",
   "execution_count": 122,
   "metadata": {
    "scrolled": true
   },
   "outputs": [
    {
     "name": "stdout",
     "output_type": "stream",
     "text": [
      "Epoch 1/10\n",
      "1875/1875 [==============================] - 35s 18ms/step - loss: 0.1406 - accuracy: 0.9574\n",
      "Epoch 2/10\n",
      "1875/1875 [==============================] - 33s 18ms/step - loss: 0.0483 - accuracy: 0.9853\n",
      "Epoch 3/10\n",
      "1875/1875 [==============================] - 33s 18ms/step - loss: 0.0297 - accuracy: 0.9905\n",
      "Epoch 4/10\n",
      "1875/1875 [==============================] - 35s 19ms/step - loss: 0.0195 - accuracy: 0.9939\n",
      "Epoch 5/10\n",
      "1875/1875 [==============================] - 34s 18ms/step - loss: 0.0133 - accuracy: 0.9956\n",
      "Epoch 6/10\n",
      "1875/1875 [==============================] - 32s 17ms/step - loss: 0.0097 - accuracy: 0.9969\n",
      "Epoch 7/10\n",
      "1875/1875 [==============================] - 34s 18ms/step - loss: 0.0073 - accuracy: 0.9977\n",
      "Epoch 8/10\n",
      "1875/1875 [==============================] - 39s 21ms/step - loss: 0.0063 - accuracy: 0.9979\n",
      "Epoch 9/10\n",
      "1875/1875 [==============================] - 33s 18ms/step - loss: 0.0050 - accuracy: 0.9982\n",
      "Epoch 10/10\n",
      "1875/1875 [==============================] - 33s 18ms/step - loss: 0.0039 - accuracy: 0.9987\n"
     ]
    },
    {
     "data": {
      "text/plain": [
       "<keras.callbacks.History at 0x2576e51df40>"
      ]
     },
     "execution_count": 122,
     "metadata": {},
     "output_type": "execute_result"
    }
   ],
   "source": [
    "model_.fit(x=train_X,y=train_y, epochs=10)"
   ]
  },
  {
   "cell_type": "code",
   "execution_count": 135,
   "metadata": {},
   "outputs": [
    {
     "name": "stdout",
     "output_type": "stream",
     "text": [
      "313/313 [==============================] - 2s 6ms/step - loss: 0.0575 - accuracy: 0.9871\n",
      "Notre modèle à une précision de  0.9871000051498413 % sur l'ensemble de test \n"
     ]
    }
   ],
   "source": [
    "loss_model, acc_model = model_.evaluate(x=test_X,y=test_y)\n",
    "\n",
    "print('Notre modèle à une précision de ',acc_model ,'% sur l\\'ensemble de test ')"
   ]
  },
  {
   "cell_type": "markdown",
   "metadata": {},
   "source": [
    "Les 3 lignes de codes ci-dessous vont nous permettre de faire des prédictions et les verifier visuellement.\n",
    "\n",
    "On crée une variable image_index qui représente un chiffre aléatoire entre 1 et 10 000."
   ]
  },
  {
   "cell_type": "code",
   "execution_count": 253,
   "metadata": {},
   "outputs": [
    {
     "name": "stdout",
     "output_type": "stream",
     "text": [
      "Le nombre est 3\n"
     ]
    },
    {
     "data": {
      "image/png": "[encoded data removed]",
      "text/plain": [
       "<Figure size 432x288 with 1 Axes>"
      ]
     },
     "metadata": {},
     "output_type": "display_data"
    }
   ],
   "source": [
    "from random import *\n",
    "\n",
    "liste = []\n",
    "for i in range(10000):\n",
    "    liste.append(randint(0, 1000) )\n",
    "\n",
    "shuffle(liste)\n",
    "image_index = choice(liste)\n",
    "    \n",
    "plt.imshow(test_X[image_index].reshape(28, 28),cmap='gist_gray')\n",
    "pred = model.predict(test_X[image_index].reshape(1, 28, 28, 1))\n",
    "print('Le nombre est',pred.argmax())"
   ]
  },
  {
   "cell_type": "markdown",
   "metadata": {},
   "source": [
    "### Modèle avec 3-fold validation croisée"
   ]
  },
  {
   "cell_type": "markdown",
   "metadata": {},
   "source": [
    "On va maintenant réaliser une validation croisée avec 3-Fold"
   ]
  },
  {
   "cell_type": "markdown",
   "metadata": {},
   "source": [
    "Pour faciliter et rendre le code plus clair, on crée une fonction qui va retourner notre model."
   ]
  },
  {
   "cell_type": "code",
   "execution_count": 109,
   "metadata": {},
   "outputs": [],
   "source": [
    "def fonction_model():\n",
    "    model = Sequential()\n",
    "    model.add(Conv2D(32, (3, 3), activation='relu', kernel_initializer='he_uniform', input_shape=(28, 28, 1)))\n",
    "    model.add(MaxPooling2D((2, 2)))\n",
    "    model.add(Flatten())\n",
    "    model.add(Dense(100, activation='relu', kernel_initializer='he_uniform'))\n",
    "    model.add(Dense(10, activation='softmax'))\n",
    "    model.compile(optimizer='adam', loss='categorical_crossentropy', metrics=['accuracy'])\n",
    "    return model"
   ]
  },
  {
   "cell_type": "code",
   "execution_count": 87,
   "metadata": {},
   "outputs": [],
   "source": [
    "kfold = KFold(3, shuffle=True, random_state=1)"
   ]
  },
  {
   "cell_type": "code",
   "execution_count": 130,
   "metadata": {},
   "outputs": [],
   "source": [
    "hist_f= list()\n",
    "acc_f = list()\n",
    "loss_f = list()\n",
    "for train_i, test_i in kfold.split(train_X):\n",
    "    k_trainX, k_trainY, k_testX, k_testY = train_X[train_i], train_y[train_i],train_X[test_i], train_y[test_i]\n",
    "    \n",
    "    model = fonction_model()\n",
    "    \n",
    "    hist = model.fit(k_trainX, k_trainY, epochs=10, batch_size=32, validation_data=(k_testX, k_testY), verbose=0)\n",
    "    \n",
    "    loss,acc = model.evaluate(k_testX, k_testY, verbose=0)\n",
    "    \n",
    "    acc_f.append(acc)\n",
    "    loss_f.append(loss)\n",
    "    hist_f.append(hist)\n"
   ]
  },
  {
   "cell_type": "markdown",
   "metadata": {},
   "source": [
    "Le chargement de cette cellule prends un certain temps."
   ]
  },
  {
   "cell_type": "code",
   "execution_count": 132,
   "metadata": {},
   "outputs": [
    {
     "data": {
      "text/plain": [
       "[0.9836999773979187, 0.9843500256538391, 0.9847999811172485]"
      ]
     },
     "execution_count": 132,
     "metadata": {},
     "output_type": "execute_result"
    }
   ],
   "source": [
    "acc_f"
   ]
  },
  {
   "cell_type": "code",
   "execution_count": 131,
   "metadata": {},
   "outputs": [
    {
     "data": {
      "text/plain": [
       "[0.07853484898805618, 0.07259513437747955, 0.07553878426551819]"
      ]
     },
     "execution_count": 131,
     "metadata": {},
     "output_type": "execute_result"
    }
   ],
   "source": [
    "loss_f"
   ]
  },
  {
   "cell_type": "code",
   "execution_count": 112,
   "metadata": {
    "scrolled": true
   },
   "outputs": [
    {
     "data": {
      "text/plain": [
       "[[0.07859574258327484, 0.9825500249862671],\n",
       " [0.07473059743642807, 0.9846500158309937],\n",
       " [0.06818027049303055, 0.986050009727478]]"
      ]
     },
     "execution_count": 112,
     "metadata": {},
     "output_type": "execute_result"
    }
   ],
   "source": [
    "score_f"
   ]
  },
  {
   "cell_type": "code",
   "execution_count": 113,
   "metadata": {
    "scrolled": true
   },
   "outputs": [
    {
     "name": "stderr",
     "output_type": "stream",
     "text": [
      "<ipython-input-113-6e9fe03380ec>:3: MatplotlibDeprecationWarning: Adding an axes using the same arguments as a previous axes currently reuses the earlier instance.  In a future version, a new instance will always be created and returned.  Meanwhile, this warning can be suppressed, and the future behavior ensured, by passing a unique label to each axes instance.\n",
      "  plt.subplot(2, 1, 1)\n",
      "<ipython-input-113-6e9fe03380ec>:9: MatplotlibDeprecationWarning: Adding an axes using the same arguments as a previous axes currently reuses the earlier instance.  In a future version, a new instance will always be created and returned.  Meanwhile, this warning can be suppressed, and the future behavior ensured, by passing a unique label to each axes instance.\n",
      "  plt.subplot(2, 1, 2)\n"
     ]
    },
    {
     "data": {
      "image/png": "[encoded data removed]",
      "text/plain": [
       "<Figure size 432x288 with 2 Axes>"
      ]
     },
     "metadata": {},
     "output_type": "display_data"
    }
   ],
   "source": [
    "for i in range(len(hist_f)):\n",
    "    #1er graphique\n",
    "    plt.subplot(2, 1, 1)\n",
    "    plt.title('Cross Entropy Loss')\n",
    "    plt.plot(hist_f[i].history['loss'], color='blue', label='train')\n",
    "    plt.plot(hist_f[i].history['val_loss'], color='orange', label='test')\n",
    "    \n",
    "    #2ème graphique\n",
    "    plt.subplot(2, 1, 2)\n",
    "    plt.title('Classification Accuracy')\n",
    "    plt.plot(hist_f[i].history['accuracy'], color='blue', label='train')\n",
    "    plt.plot(hist_f[i].history['val_accuracy'], color='orange', label='test')\n",
    "plt.show()"
   ]
  },
  {
   "cell_type": "code",
   "execution_count": 129,
   "metadata": {
    "scrolled": false
   },
   "outputs": [
    {
     "name": "stdout",
     "output_type": "stream",
     "text": [
      "Accuracy: mean=52.913 std=45.530, n=3\n"
     ]
    },
    {
     "data": {
      "image/png": "[encoded data removed]",
      "text/plain": [
       "<Figure size 432x288 with 1 Axes>"
      ]
     },
     "metadata": {},
     "output_type": "display_data"
    }
   ],
   "source": [
    "print('Accuracy: mean=%.3f std=%.3f, n=%d' % (np.mean(score_f)*100, np.std(score_f)*100, len(score_f)))\n",
    "# box and whisker plots of results\n",
    "plt.boxplot(score_f)\n",
    "plt.show()"
   ]
  },
  {
   "cell_type": "code",
   "execution_count": null,
   "metadata": {},
   "outputs": [],
   "source": []
  },
  {
   "cell_type": "code",
   "execution_count": null,
   "metadata": {},
   "outputs": [],
   "source": []
  },
  {
   "cell_type": "code",
   "execution_count": null,
   "metadata": {},
   "outputs": [],
   "source": []
  }
 ],
 "metadata": {
  "kernelspec": {
   "display_name": "Python 3",
   "language": "python",
   "name": "python3"
  },
  "language_info": {
   "codemirror_mode": {
    "name": "ipython",
    "version": 3
   },
   "file_extension": ".py",
   "mimetype": "text/x-python",
   "name": "python",
   "nbconvert_exporter": "python",
   "pygments_lexer": "ipython3",
   "version": "3.8.5"
  }
 },
 "nbformat": 4,
 "nbformat_minor": 4
}
